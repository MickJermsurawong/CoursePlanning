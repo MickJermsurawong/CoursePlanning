{
 "metadata": {
  "name": "",
  "signature": "sha256:aff123d613d5300daef3c5d02c732f2d9924b3cb655be82a9cc91bccb1273676"
 },
 "nbformat": 3,
 "nbformat_minor": 0,
 "worksheets": [
  {
   "cells": [
    {
     "cell_type": "code",
     "collapsed": false,
     "input": [
      "from bs4 import BeautifulSoup\n",
      "\n",
      "# import urllib.request\n",
      "# courseLink = \"http://nyuad.nyu.edu/en/academics/undergraduate-programs/courses.html\"\n",
      "# response = urllib.request.urlopen(courseLink)\n",
      "# html = response.read()\n"
     ],
     "language": "python",
     "metadata": {},
     "outputs": [],
     "prompt_number": 86
    },
    {
     "cell_type": "code",
     "collapsed": false,
     "input": [
      "html = open('courseData.rtfd')\n",
      "soup = BeautifulSoup(html,\"html.parser\")"
     ],
     "language": "python",
     "metadata": {},
     "outputs": [
      {
       "ename": "FileNotFoundError",
       "evalue": "[Errno 2] No such file or directory: 'courseData.rtfd '",
       "output_type": "pyerr",
       "traceback": [
        "\u001b[0;31m---------------------------------------------------------------------------\u001b[0m\n\u001b[0;31mFileNotFoundError\u001b[0m                         Traceback (most recent call last)",
        "\u001b[0;32m<ipython-input-88-dfe42c9ecd46>\u001b[0m in \u001b[0;36m<module>\u001b[0;34m()\u001b[0m\n\u001b[0;32m----> 1\u001b[0;31m \u001b[0mhtml\u001b[0m \u001b[0;34m=\u001b[0m \u001b[0mopen\u001b[0m\u001b[0;34m(\u001b[0m\u001b[0;34m'courseData.rtfd '\u001b[0m\u001b[0;34m)\u001b[0m\u001b[0;34m\u001b[0m\u001b[0m\n\u001b[0m\u001b[1;32m      2\u001b[0m \u001b[0msoup\u001b[0m \u001b[0;34m=\u001b[0m \u001b[0mBeautifulSoup\u001b[0m\u001b[0;34m(\u001b[0m\u001b[0mhtml\u001b[0m\u001b[0;34m,\u001b[0m\u001b[0;34m\"html.parser\"\u001b[0m\u001b[0;34m)\u001b[0m\u001b[0;34m\u001b[0m\u001b[0m\n",
        "\u001b[0;31mFileNotFoundError\u001b[0m: [Errno 2] No such file or directory: 'courseData.rtfd '"
       ]
      }
     ],
     "prompt_number": 88
    },
    {
     "cell_type": "code",
     "collapsed": false,
     "input": [
      "playThis = eachItem[63]\n",
      "print (playThis.prettify())"
     ],
     "language": "python",
     "metadata": {},
     "outputs": []
    },
    {
     "cell_type": "code",
     "collapsed": false,
     "input": [
      "eachItem = soup.findAll(\"li\", { \"class\" : \"item\" })\n",
      "\n",
      "courseNameList = []\n",
      "courseNameDict = {}\n",
      "courseCodeList = []\n",
      "coursePrereq = []\n",
      "for i, each in enumerate(eachItem):\n",
      "    playThis = each\n",
      "    courseNumberTitle = playThis.select(\"a.trigger\")[0].text.strip()\n",
      "    courseNumberTitle = courseNumberTitle.split()\n",
      "    courseType = courseNumberTitle[0]\n",
      "    courseNumber = courseNumberTitle[1]\n",
      "    courseTitle = \" \".join(courseNumberTitle[2:])\n",
      "    \n",
      "    courseCodeList.append(courseType+\" \"+courseNumber)\n",
      "    courseNameList.append(courseTitle)\n",
      "    courseNameDict[courseTitle] = i\n",
      "    prereqs = playThis.select(\"ul.prerequisites\")\n",
      "    if prereqs:\n",
      "        prereqs = prereqs[0].select(\"li\")\n",
      "        thisPrereq = []\n",
      "        for eachPre in prereqs:\n",
      "            thisPrereq.append(eachPre.text)\n",
      "        coursePrereq.append(thisPrereq)\n",
      "    else:\n",
      "        coursePrereq.append([])\n"
     ],
     "language": "python",
     "metadata": {},
     "outputs": []
    },
    {
     "cell_type": "code",
     "collapsed": false,
     "input": [
      "for i in range(len(courseNameList)):\n",
      "    print (i, \":\", courseCodeList[i], courseNameList[i])\n",
      "    print (coursePrereq[i])\n",
      "    for eachP in coursePrereq[i]:\n",
      "        print (eachP, \":\", courseNameDict[eachP])"
     ],
     "language": "python",
     "metadata": {},
     "outputs": []
    },
    {
     "cell_type": "code",
     "collapsed": false,
     "input": [
      "for i, each in enumerate(courseNameList):\n",
      "    print (i, each)"
     ],
     "language": "python",
     "metadata": {},
     "outputs": []
    },
    {
     "cell_type": "code",
     "collapsed": false,
     "input": [],
     "language": "python",
     "metadata": {},
     "outputs": []
    }
   ],
   "metadata": {}
  }
 ]
}